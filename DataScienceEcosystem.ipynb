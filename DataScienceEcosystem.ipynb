{
 "cells": [
  {
   "cell_type": "markdown",
   "id": "6a5e2cb2-358e-4f78-9ce2-97e1932cec74",
   "metadata": {},
   "source": [
    "# Data Science Tools and Ecosystem\n"
   ]
  },
  {
   "cell_type": "markdown",
   "id": "0535164a-6bb9-4923-b045-ed2d00c1a318",
   "metadata": {},
   "source": [
    "In this notebook, Data Science Tools and Ecosystem are summarized."
   ]
  },
  {
   "cell_type": "markdown",
   "id": "a44c9660-59cf-4d06-bc64-cf3725a85d94",
   "metadata": {},
   "source": [
    "**OBJECTIVES**"
   ]
  },
  {
   "cell_type": "markdown",
   "id": "f971cdac-b02d-4649-ab8b-8fe5fd35506d",
   "metadata": {},
   "source": [
    "+ List popular languages for Data Science\n",
    "+ Some of the commonly used libraries used by Data Scientists include\n",
    "+ List popular Tools for Data Science"
   ]
  },
  {
   "cell_type": "markdown",
   "id": "c460ecda-3e84-4c3e-9c19-c570427be307",
   "metadata": {},
   "source": [
    "Some of the popular languages that Data Scientists use are:\n"
   ]
  },
  {
   "cell_type": "markdown",
   "id": "4c5777f4-112d-4755-8286-55be565520a7",
   "metadata": {},
   "source": [
    "1. Python\n",
    "2. R\n",
    "3. Julia"
   ]
  },
  {
   "cell_type": "markdown",
   "id": "1dbafcbb-1582-4885-81da-ad76e73d44ab",
   "metadata": {},
   "source": [
    "Some of the commonly used libraries used by Data Scientists include:\n",
    "1. Numpy\n",
    "2. Pandas\n",
    "3. Matplotlib"
   ]
  },
  {
   "cell_type": "markdown",
   "id": "9e8e5452-ee69-4a11-bef4-e907ec327203",
   "metadata": {},
   "source": [
    "| Data Science Tools |\n",
    "|--------------------|\n",
    "| Jupyter Notebook   |\n",
    "| RStudio            |\n",
    "| Visual Studio Code |\n"
   ]
  },
  {
   "cell_type": "markdown",
   "id": "cdf1f9ec-a74c-4e51-9969-e8f0240f29d2",
   "metadata": {},
   "source": [
    "### Below are a few examples of evaluating arithmetic expressions in Python"
   ]
  },
  {
   "cell_type": "code",
   "execution_count": 5,
   "id": "ac49b7f4-f5c9-45ab-8a75-28fa0d13874f",
   "metadata": {},
   "outputs": [
    {
     "data": {
      "text/plain": [
       "17"
      ]
     },
     "execution_count": 5,
     "metadata": {},
     "output_type": "execute_result"
    }
   ],
   "source": [
    "# This is a simple arithmetic expression to multiply then add integers.\n",
    "(3*4)+5\n"
   ]
  },
  {
   "cell_type": "code",
   "execution_count": 6,
   "id": "1d15e666-8963-4191-9706-943d4a8a5d97",
   "metadata": {},
   "outputs": [
    {
     "data": {
      "text/plain": [
       "3.3333333333333335"
      ]
     },
     "execution_count": 6,
     "metadata": {},
     "output_type": "execute_result"
    }
   ],
   "source": [
    "# This will convert 200 minutes to hours by dividing by 60.\n",
    "minutes = 200\n",
    "hours = minutes / 60\n",
    "hours\n"
   ]
  },
  {
   "cell_type": "markdown",
   "id": "f749179a-56c5-432b-97f2-117bf1263957",
   "metadata": {},
   "source": [
    "## AUTHOR\n",
    "PRANAV S A"
   ]
  },
  {
   "cell_type": "code",
   "execution_count": null,
   "id": "7be8ec15-626b-4509-ad16-ecdecf42a20d",
   "metadata": {},
   "outputs": [],
   "source": []
  }
 ],
 "metadata": {
  "kernelspec": {
   "display_name": "Python 3 (ipykernel)",
   "language": "python",
   "name": "python3"
  },
  "language_info": {
   "codemirror_mode": {
    "name": "ipython",
    "version": 3
   },
   "file_extension": ".py",
   "mimetype": "text/x-python",
   "name": "python",
   "nbconvert_exporter": "python",
   "pygments_lexer": "ipython3",
   "version": "3.12.7"
  }
 },
 "nbformat": 4,
 "nbformat_minor": 5
}
